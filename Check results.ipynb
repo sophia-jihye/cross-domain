{
 "cells": [
  {
   "cell_type": "code",
   "execution_count": 1,
   "metadata": {},
   "outputs": [],
   "source": [
    "import pandas as pd\n",
    "import os\n",
    "from glob import glob\n",
    "import reports\n",
    "pd.options.display.float_format = '{:.2f}'.format"
   ]
  },
  {
   "cell_type": "code",
   "execution_count": 7,
   "metadata": {},
   "outputs": [],
   "source": [
    "mlm_ddt_filepaths_format = '/media/dmlab/My Passport/DATA/cross-domain/finetune_{}/source=*_post=MLM+DDT_target=*/classification_report.csv'\n",
    "kfold_num = 1"
   ]
  },
  {
   "cell_type": "code",
   "execution_count": 10,
   "metadata": {},
   "outputs": [],
   "source": [
    "def get_average_classification_report(reports):\n",
    "    for i, report in enumerate(reports):\n",
    "        report.set_index(report.columns[0], inplace=True)\n",
    "        if i == 0: \n",
    "            report_avg = report\n",
    "        else: \n",
    "            report_avg = report_avg.add(report)\n",
    "    report_avg = report_avg / len(reports)\n",
    "    return report_avg\n",
    "\n",
    "def show_result(filepaths_format, kfold_num=1):\n",
    "    kfold_reports = []\n",
    "    for i in range(0, kfold_num):\n",
    "        filepaths = glob(filepaths_format.format(i))\n",
    "\n",
    "        records = []\n",
    "        for filepath in filepaths:\n",
    "            source, post, target = os.path.basename(os.path.dirname(filepath)).split('_')\n",
    "            source, target = source.replace('source=',''), target.replace('target=', '')\n",
    "\n",
    "            df = pd.read_csv(filepath)\n",
    "            df.set_index('Unnamed: 0', inplace=True)\n",
    "            acc = 100*df.filter(items = ['accuracy'], axis=0)['f1-score'].values[0]\n",
    "\n",
    "            records.append(('{}->{}'.format(source, target), float(acc)))\n",
    "\n",
    "        result_df = pd.DataFrame(records, columns = ['source->target', '{}_accuracy'])\n",
    "        kfold_reports.append(result_df)\n",
    "\n",
    "    result_df = get_average_classification_report(kfold_reports)\n",
    "    result_df.loc['Average'] = result_df.mean()\n",
    "    return result_df"
   ]
  },
  {
   "cell_type": "markdown",
   "metadata": {},
   "source": [
    "* Post-training tasks: (1) MLM (2) DDT\n",
    "* 파인튜닝: Raw 소스 (train), Raw 타겟 (test)\n",
    "* No k-fold"
   ]
  },
  {
   "cell_type": "code",
   "execution_count": 11,
   "metadata": {},
   "outputs": [
    {
     "data": {
      "text/html": [
       "<div>\n",
       "<style scoped>\n",
       "    .dataframe tbody tr th:only-of-type {\n",
       "        vertical-align: middle;\n",
       "    }\n",
       "\n",
       "    .dataframe tbody tr th {\n",
       "        vertical-align: top;\n",
       "    }\n",
       "\n",
       "    .dataframe thead th {\n",
       "        text-align: right;\n",
       "    }\n",
       "</style>\n",
       "<table border=\"1\" class=\"dataframe\">\n",
       "  <thead>\n",
       "    <tr style=\"text-align: right;\">\n",
       "      <th></th>\n",
       "      <th>MLM+DDT</th>\n",
       "    </tr>\n",
       "    <tr>\n",
       "      <th>source-&gt;target</th>\n",
       "      <th></th>\n",
       "    </tr>\n",
       "  </thead>\n",
       "  <tbody>\n",
       "    <tr>\n",
       "      <th>books-&gt;dvd</th>\n",
       "      <td>87.25</td>\n",
       "    </tr>\n",
       "    <tr>\n",
       "      <th>books-&gt;electronics</th>\n",
       "      <td>72.90</td>\n",
       "    </tr>\n",
       "    <tr>\n",
       "      <th>books-&gt;kitchen</th>\n",
       "      <td>64.00</td>\n",
       "    </tr>\n",
       "    <tr>\n",
       "      <th>dvd-&gt;books</th>\n",
       "      <td>83.10</td>\n",
       "    </tr>\n",
       "    <tr>\n",
       "      <th>dvd-&gt;electronics</th>\n",
       "      <td>77.60</td>\n",
       "    </tr>\n",
       "    <tr>\n",
       "      <th>dvd-&gt;kitchen</th>\n",
       "      <td>53.15</td>\n",
       "    </tr>\n",
       "    <tr>\n",
       "      <th>electronics-&gt;books</th>\n",
       "      <td>53.60</td>\n",
       "    </tr>\n",
       "    <tr>\n",
       "      <th>electronics-&gt;dvd</th>\n",
       "      <td>56.20</td>\n",
       "    </tr>\n",
       "    <tr>\n",
       "      <th>electronics-&gt;kitchen</th>\n",
       "      <td>88.70</td>\n",
       "    </tr>\n",
       "    <tr>\n",
       "      <th>kitchen-&gt;books</th>\n",
       "      <td>53.05</td>\n",
       "    </tr>\n",
       "    <tr>\n",
       "      <th>kitchen-&gt;dvd</th>\n",
       "      <td>53.30</td>\n",
       "    </tr>\n",
       "    <tr>\n",
       "      <th>kitchen-&gt;electronics</th>\n",
       "      <td>91.60</td>\n",
       "    </tr>\n",
       "    <tr>\n",
       "      <th>Average</th>\n",
       "      <td>69.54</td>\n",
       "    </tr>\n",
       "  </tbody>\n",
       "</table>\n",
       "</div>"
      ],
      "text/plain": [
       "                      MLM+DDT\n",
       "source->target               \n",
       "books->dvd              87.25\n",
       "books->electronics      72.90\n",
       "books->kitchen          64.00\n",
       "dvd->books              83.10\n",
       "dvd->electronics        77.60\n",
       "dvd->kitchen            53.15\n",
       "electronics->books      53.60\n",
       "electronics->dvd        56.20\n",
       "electronics->kitchen    88.70\n",
       "kitchen->books          53.05\n",
       "kitchen->dvd            53.30\n",
       "kitchen->electronics    91.60\n",
       "Average                 69.54"
      ]
     },
     "execution_count": 11,
     "metadata": {},
     "output_type": "execute_result"
    }
   ],
   "source": [
    "pt_mlm_ddt = show_result(mlm_ddt_filepaths_format, kfold_num=kfold_num)\n",
    "pt_mlm_ddt.columns = ['MLM+DDT']\n",
    "\n",
    "result = pd.concat([pt_mlm_ddt], axis=1)\n",
    "result"
   ]
  }
 ],
 "metadata": {
  "kernelspec": {
   "display_name": "Python 3",
   "language": "python",
   "name": "python3"
  },
  "language_info": {
   "codemirror_mode": {
    "name": "ipython",
    "version": 3
   },
   "file_extension": ".py",
   "mimetype": "text/x-python",
   "name": "python",
   "nbconvert_exporter": "python",
   "pygments_lexer": "ipython3",
   "version": "3.6.5"
  }
 },
 "nbformat": 4,
 "nbformat_minor": 4
}
