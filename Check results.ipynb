{
 "cells": [
  {
   "cell_type": "code",
   "execution_count": null,
   "metadata": {},
   "outputs": [],
   "source": [
    "import pandas as pd\n",
    "import os\n",
    "from glob import glob\n",
    "import reports"
   ]
  },
  {
   "cell_type": "code",
   "execution_count": null,
   "metadata": {},
   "outputs": [],
   "source": [
    "no_pt_filepaths_format = '/media/dmlab/My Passport/DATA/cross-domain/finetune_{}/source=*_post=None_target=*/classification_report.csv'\n",
    "pt_raw_filepaths_format = '/media/dmlab/My Passport/DATA/cross-domain/finetune_{}/source=*_post=*-raw_target=*/classification_report.csv'\n",
    "pt_random_filepaths_format = '/media/dmlab/My Passport/DATA/cross-domain/finetune_{}/source=*_post=*-random_target=*/classification_report.csv'\n",
    "pt_keyword_filepaths_format = '/media/dmlab/My Passport/DATA/cross-domain/finetune_{}/source=*_post=*-keyword_target=*/classification_report.csv'"
   ]
  },
  {
   "cell_type": "code",
   "execution_count": null,
   "metadata": {},
   "outputs": [],
   "source": [
    "def get_average_classification_report(reports):\n",
    "    for i, report in enumerate(reports):\n",
    "        if i == 0: report_avg = report\n",
    "        else: report_avg = report_avg.add(report)\n",
    "    report_avg = report_avg / len(reports)\n",
    "    return report_avg\n",
    "\n",
    "def show_result(filepaths_format):\n",
    "    kfold_reports = []\n",
    "    for i in range(0, 5):\n",
    "        filepaths = glob(filepaths_format.format(i))\n",
    "\n",
    "        records = []\n",
    "        for filepath in filepaths:\n",
    "            source, post, target = os.path.basename(os.path.dirname(filepath)).split('_')\n",
    "            source, target = source.replace('source=',''), target.replace('target=', '')\n",
    "\n",
    "            df = pd.read_csv(filepath)\n",
    "            df.set_index('Unnamed: 0', inplace=True)\n",
    "            acc = '{:.2f}'.format(100*df.filter(items = ['accuracy'], axis=0)['f1-score'].values[0])\n",
    "\n",
    "            records.append(('{}->{}'.format(source, target), float(acc)))\n",
    "\n",
    "        result_df = pd.DataFrame(records, columns = ['source->target', 'accuracy'])\n",
    "        kfold_reports.append(result_df)\n",
    "\n",
    "    result_df = get_average_classification_report(kfold_reports)    \n",
    "    print(result_df.mean())\n",
    "    return result_df"
   ]
  },
  {
   "cell_type": "code",
   "execution_count": null,
   "metadata": {},
   "outputs": [],
   "source": [
    "show_result(no_pt_filepaths_format)"
   ]
  },
  {
   "cell_type": "code",
   "execution_count": null,
   "metadata": {},
   "outputs": [],
   "source": [
    "show_result(pt_raw_filepaths_format)"
   ]
  },
  {
   "cell_type": "code",
   "execution_count": null,
   "metadata": {},
   "outputs": [],
   "source": [
    "show_result(pt_random_filepaths_format)"
   ]
  },
  {
   "cell_type": "code",
   "execution_count": null,
   "metadata": {},
   "outputs": [],
   "source": [
    "show_result(pt_keyword_filepaths_format)"
   ]
  }
 ],
 "metadata": {
  "kernelspec": {
   "display_name": "Python 3",
   "language": "python",
   "name": "python3"
  },
  "language_info": {
   "codemirror_mode": {
    "name": "ipython",
    "version": 3
   },
   "file_extension": ".py",
   "mimetype": "text/x-python",
   "name": "python",
   "nbconvert_exporter": "python",
   "pygments_lexer": "ipython3",
   "version": "3.6.5"
  }
 },
 "nbformat": 4,
 "nbformat_minor": 4
}
