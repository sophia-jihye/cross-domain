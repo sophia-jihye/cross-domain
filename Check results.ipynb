{
 "cells": [
  {
   "cell_type": "code",
   "execution_count": null,
   "metadata": {},
   "outputs": [],
   "source": [
    "import pandas as pd\n",
    "import os\n",
    "from glob import glob\n",
    "from reports import get_average_classification_report\n",
    "pd.options.display.float_format = '{:.2f}'.format"
   ]
  },
  {
   "cell_type": "code",
   "execution_count": null,
   "metadata": {},
   "outputs": [],
   "source": [
    "no_pt_filepaths_format = '/media/dmlab/My Passport/DATA/cross-domain/finetune_{}/source=*_post=None_target=*/classification_report.csv'\n",
    "pt_st_filepaths_format = '/media/dmlab/My Passport/DATA/cross-domain/finetune_{}/source=*_post=ST_target=*/classification_report.csv'\n",
    "pt_t_filepaths_format = '/media/dmlab/My Passport/DATA/cross-domain/finetune_{}/source=*_post=T_target=*/classification_report.csv'\n",
    "kfold_num = 1"
   ]
  },
  {
   "cell_type": "code",
   "execution_count": null,
   "metadata": {},
   "outputs": [],
   "source": [
    "def show_result(filepaths_format, kfold_num=1):\n",
    "    kfold_reports = []\n",
    "    for i in range(0, kfold_num):\n",
    "        filepaths = glob(filepaths_format.format(i))\n",
    "\n",
    "        records = []\n",
    "        for filepath in filepaths:\n",
    "            source, post, target = os.path.basename(os.path.dirname(filepath)).split('_')\n",
    "            source, target = source.replace('source=',''), target.replace('target=', '')\n",
    "\n",
    "            df = pd.read_csv(filepath)\n",
    "            df.set_index('Unnamed: 0', inplace=True)\n",
    "            acc = 100*df.filter(items = ['accuracy'], axis=0)['f1-score'].values[0]\n",
    "\n",
    "            records.append(('{}->{}'.format(source, target), float(acc)))\n",
    "\n",
    "        result_df = pd.DataFrame(records, columns = ['source->target', '{}_accuracy'])\n",
    "        kfold_reports.append(result_df)\n",
    "\n",
    "    result_df = get_average_classification_report(kfold_reports)\n",
    "    result_df.loc['Average'] = result_df.mean()\n",
    "    return result_df"
   ]
  },
  {
   "cell_type": "markdown",
   "metadata": {},
   "source": [
    "* Post-training baselines\n",
    "    1. No post-training\n",
    "    2. Source+Target MLM\n",
    "    3. Target MLM\n",
    "* 파인튜닝: Raw 소스 (train), Raw 타겟 (test)\n",
    "* No k-fold"
   ]
  },
  {
   "cell_type": "code",
   "execution_count": null,
   "metadata": {},
   "outputs": [],
   "source": [
    "no_pt = show_result(no_pt_filepaths_format, kfold_num=kfold_num)\n",
    "no_pt.columns = ['No post-training']\n",
    "\n",
    "pt_st = show_result(pt_st_filepaths_format, kfold_num=kfold_num)\n",
    "pt_st.columns = ['Source+Target MLM']\n",
    "\n",
    "pt_t = show_result(pt_t_filepaths_format, kfold_num=kfold_num)\n",
    "pt_t.columns = ['Target MLM']\n",
    "\n",
    "result = pd.concat([no_pt, pt_st, pt_t], axis=1)\n",
    "result"
   ]
  }
 ],
 "metadata": {
  "kernelspec": {
   "display_name": "Python 3",
   "language": "python",
   "name": "python3"
  },
  "language_info": {
   "codemirror_mode": {
    "name": "ipython",
    "version": 3
   },
   "file_extension": ".py",
   "mimetype": "text/x-python",
   "name": "python",
   "nbconvert_exporter": "python",
   "pygments_lexer": "ipython3",
   "version": "3.6.5"
  }
 },
 "nbformat": 4,
 "nbformat_minor": 4
}
